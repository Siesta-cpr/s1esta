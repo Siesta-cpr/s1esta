{
  "nbformat": 4,
  "nbformat_minor": 0,
  "metadata": {
    "colab": {
      "provenance": [],
      "authorship_tag": "ABX9TyNdro8IO/q4YkIUek/ygkwc",
      "include_colab_link": true
    },
    "kernelspec": {
      "name": "python3",
      "display_name": "Python 3"
    },
    "language_info": {
      "name": "python"
    }
  },
  "cells": [
    {
      "cell_type": "markdown",
      "metadata": {
        "id": "view-in-github",
        "colab_type": "text"
      },
      "source": [
        "<a href=\"https://colab.research.google.com/github/Siesta-cpr/s1esta/blob/main/%D0%9E%D1%81%D0%B5%D0%BD%D0%BD%D0%B8%D0%B9_%D0%98%D0%BB%D1%8C%D1%8F_%D0%AD%D0%A4%D0%91%D0%9E_13_25.ipynb\" target=\"_parent\"><img src=\"https://colab.research.google.com/assets/colab-badge.svg\" alt=\"Open In Colab\"/></a>"
      ]
    },
    {
      "cell_type": "code",
      "execution_count": null,
      "metadata": {
        "id": "1BLPTduPfdlY"
      },
      "outputs": [],
      "source": []
    },
    {
      "cell_type": "markdown",
      "source": [
        "Задача 3.1\n",
        "Дано: X10 = 101010_2. Найти X10.\n",
        "Решение:0 + 1*2 + 0 + 1*8 + 0 + 1*36\n",
        "\n",
        "Ответ:42\n",
        "\n",
        "Задача 3.2\n",
        "Дано: X10 = 563_8. Найти X10.\n",
        "Решение: 5*64 + 6*8 + 3\n",
        "Ответ:371\n",
        "\n",
        "Задача 3.3\n",
        "Дано: X10 = A1286_12. Найти X10.\n",
        "Решение: 10*20736 + 1*1728 + 2*144 + 8*12 +6\n",
        "Ответ:209478\n",
        "\n",
        "Задача 3.4\n",
        "Сколько единиц в двоичной записи числа 127?\n",
        "Решение: 100000000 - 00000001 = 1111111\n",
        "Ответ:7"
      ],
      "metadata": {
        "id": "89XIw4xDg4LZ"
      }
    },
    {
      "cell_type": "markdown",
      "source": [
        "Задача 3.1\n",
        "Дано: 367_10 = X7. Найти X.\n",
        "Решение:367 делим на 7, частное 52, остаток 3\n",
        "52 делим на 7, частное 7, остаток 3\n",
        "7 делим на 7, частное 1,остаток 0\n",
        "1 делим на 7, остаток 1\n",
        "Ответ:1033\n",
        "\n",
        "Задача 3.2\n",
        "Дано: 1143_10 = X12. Найти X.\n",
        "Решение:1143 делим на 12, частное 95, остаток 3\n",
        "95 делим на 12, частное 7, остаток 11(B)\n",
        "7 делим на 12, частное 0,остаток 7\n",
        "\n",
        "Ответ:7B3\n",
        "\n",
        "Задача 3.3\n",
        "Дано: 127_8 = X9. Найти X.\n",
        "Решение:127 делим на 9, частное 14, остаток 1\n",
        "14 делим на 9, частное 1, остаток 5\n",
        "5 делим на 9, частное 0,остаток 5\n",
        "Ответ:116\n",
        "\n",
        "Задача 3.4\n",
        "Дано: AB4_13 = X6. Найти X.\n",
        "Решение:10*169+11*13+4=1837_10\n",
        "1837 делим на 6, частное 306, остаток 1\n",
        "306 делим на 6, частное 51, остаток 0\n",
        "51 делим на 6, частное 8,остаток 3\n",
        "8 делим на 6, частное 1, остаток 2\n",
        "1 делим на 6, частное 0б остаток 1\n",
        "Ответ:12301"
      ],
      "metadata": {
        "id": "EQbLZe51lqGE"
      }
    },
    {
      "cell_type": "markdown",
      "source": [
        "  Задача 3.1\n",
        "  Дано: 1010011101_2 = X16.\n",
        "  Найти X.\n",
        "  Решение:\n",
        "\t1) 10. 1001. 1101\n",
        "  2) 0010.1001.1101\n",
        "  3) 2 9 D\n",
        "  4) 10100111012= 29D16\n",
        "\n",
        "  Ответ:29D\n",
        "\n",
        "  Задача 3.2\n",
        "  Дано: 1147453_8 = X2. Найти X.\n",
        "  Решение:\n",
        "  1 = 0012\n",
        "  1 = 0012\n",
        "  4 = 1002\n",
        "  7 = 1112\n",
        "  4 = 1002\n",
        "  5 = 1012\n",
        "  3 = 0112\n",
        "  Ответ:1001100111100101011\n",
        "\n",
        "  Задача 3.3\n",
        "  Дано: 127_8 = X16. Найти X.\n",
        "  Решение:\n",
        "  001.010.111\n",
        "  001010111\n",
        "  1010111\n",
        "\n",
        "  0101. 0111\n",
        "  5. 7\n",
        "  1278= 57_16\n",
        "  Ответ:57\n",
        "\n",
        "\n",
        "  Задача 3.4\n",
        "  Сколько значащих нулей в двоичной записи шестнадцатеричного числа C3E1_16?\n",
        "  Решение:\n",
        "  1100.0011.1110.0001\n",
        "  1100001111100001\n",
        "\n",
        "  C3E1_16= 1100001111100001_2\n",
        "\n",
        "  Ответ:8\n",
        "\n",
        "  Задача 3.5\n",
        "  Дано: AF38_32 = X_16 = X_8 = X_2. Найти X.\n",
        "  Решение:\n",
        "  AF38\n",
        "  X2 = 01010.01111.00011.00100\n",
        "  001.010.011.110.001.100.100\n",
        "  X8 = 1236144\n",
        "  0101.0011.1100.0110.0100\n",
        "  X16 = 53C64\n",
        "\n",
        "  Ответ:53C64123614401010.01111.00011.00100\n",
        "\n",
        "  Задача 3.6\n",
        "  Некоторое число X из десятичной системы счисления перевели в системы счисления с основаниями 16, 8, 4, 2. Часть символов при записи утеряна. Позиции утерянных символов обозначены знаком *\n",
        "  X = E*16 = *5*8 = ***14 = *****1**2\n",
        "  Определите число X.\n",
        "\n",
        "  Решение:\n",
        "  При а=5, Х=229\n",
        "  При а=9, Х=233\n",
        "  При а=13, Х=237\n",
        "  Х=*****1**2,  число 233 нам не подходит, a 229 и 237 подходят.\n",
        "  Х=*5*8, при переведении Х в восьмеричную систему второй бит должен принять значение 5.\n",
        "  Х=229_10=345_8\n",
        "  Х=237_10=355_8\n",
        "  Ответ:237"
      ],
      "metadata": {
        "id": "b0b3r5mLqLRr"
      }
    },
    {
      "cell_type": "markdown",
      "source": [
        "ТЕСТ\n",
        "1)A\n",
        "2)C\n",
        "3)D\n",
        "4)B\n",
        "5)C\n",
        "6)A\n",
        "7)B\n",
        "8)6,9,12,18,36\n",
        "9)5\n",
        "10)81"
      ],
      "metadata": {
        "id": "Aasco20gucHp"
      }
    },
    {
      "cell_type": "markdown",
      "source": [
        "задача\n",
        "На вход программа получает две величины: n, A, где n – натуральное числа от 2 до 36, основание системы счисления, A – число, записанное в системе счисления с основанием n, A < 231.\n",
        "Необходимо вывести значение A в системе счисления с основанием десять. В задаче подразумевается корректный ввод (т.е. в числе A отсутствуют цифры большие или равные n).\n"
      ],
      "metadata": {
        "id": "VVNLzQ9fyoyn"
      }
    },
    {
      "cell_type": "code",
      "source": [
        "n = int(input())\n",
        "A = str(input())\n",
        "print(int(A,n))\n"
      ],
      "metadata": {
        "colab": {
          "base_uri": "https://localhost:8080/"
        },
        "id": "mZXYc-cbxq-n",
        "outputId": "2da25ab5-635a-427a-8714-7c7b26f68cff"
      },
      "execution_count": 2,
      "outputs": [
        {
          "output_type": "stream",
          "name": "stdout",
          "text": [
            "12\n",
            "25\n",
            "29\n"
          ]
        }
      ]
    },
    {
      "cell_type": "markdown",
      "source": [
        "Напечатать модуль введенного числа"
      ],
      "metadata": {
        "id": "ITr0w376znRD"
      }
    },
    {
      "cell_type": "code",
      "source": [
        "x = int(input('Введите х: '))\n",
        "if x < 0:\n",
        "  x = abs(x)\n",
        "print(x)\n"
      ],
      "metadata": {
        "colab": {
          "base_uri": "https://localhost:8080/"
        },
        "id": "-jjBeY69znkE",
        "outputId": "6acb8688-86a8-4dac-e622-1593d55b3188"
      },
      "execution_count": 5,
      "outputs": [
        {
          "output_type": "stream",
          "name": "stdout",
          "text": [
            "Введите х: -78\n",
            "78\n"
          ]
        }
      ]
    },
    {
      "cell_type": "markdown",
      "source": [
        "Ввести два числа и определить четверть координатной плоскости"
      ],
      "metadata": {
        "id": "2q8XrbfY0M1K"
      }
    },
    {
      "cell_type": "code",
      "source": [
        "x = int(input())\n",
        "y = int(input())\n",
        "if x > 0 and y > 0:\n",
        "    print(\"Перваячетверть\")\n",
        "elif x > 0 and y < 0:\n",
        "  print(\"Четвертая четверть\")\n",
        "elif y > 0:\n",
        "  print(\"Вторая четверть\")\n",
        "else:\n",
        "  print(\"Третья четверть\")\n"
      ],
      "metadata": {
        "colab": {
          "base_uri": "https://localhost:8080/"
        },
        "id": "C7gZ8WKc0NRs",
        "outputId": "c4e89fc9-30eb-4e96-c56e-1361aa78f7c5"
      },
      "execution_count": 7,
      "outputs": [
        {
          "output_type": "stream",
          "name": "stdout",
          "text": [
            "12\n",
            "14\n",
            "Перваячетверть\n"
          ]
        }
      ]
    },
    {
      "cell_type": "markdown",
      "source": [
        "Задача 3.1\n",
        "Дано двузначное число. Определить входит ли в него цифра 3. (// - операция получения целой части от деления, % - операция взятия остатка от целочисленного деления)."
      ],
      "metadata": {
        "id": "sqX_RlL809DU"
      }
    },
    {
      "cell_type": "code",
      "source": [
        "n = input()\n",
        "print([\"Не входит\", \"Входит\"][n.count(\"3\") > 0])\n"
      ],
      "metadata": {
        "colab": {
          "base_uri": "https://localhost:8080/"
        },
        "id": "vKavM28d08dU",
        "outputId": "6d324fd2-5681-49c2-8210-e854ecdf67ae"
      },
      "execution_count": 9,
      "outputs": [
        {
          "output_type": "stream",
          "name": "stdout",
          "text": [
            "43\n",
            "Входит\n"
          ]
        }
      ]
    },
    {
      "cell_type": "markdown",
      "source": [
        "\n",
        "Задача 3.2\n",
        "Дано двузначное число. Определить какая из его цифр больше."
      ],
      "metadata": {
        "id": "miRGlFtB1Gkx"
      }
    },
    {
      "cell_type": "code",
      "source": [
        "n = int(input())\n",
        "max_n = 0\n",
        "while n > 0:\n",
        "    max_n = max(max_n, n % 10)\n",
        "    n //= 10\n",
        "\n",
        "print(max_n)\n"
      ],
      "metadata": {
        "colab": {
          "base_uri": "https://localhost:8080/"
        },
        "id": "xPz5Mxq81H_A",
        "outputId": "d4ea2ac1-40de-492a-eb29-75948dc50bed"
      },
      "execution_count": 12,
      "outputs": [
        {
          "output_type": "stream",
          "name": "stdout",
          "text": [
            "659\n",
            "9\n"
          ]
        }
      ]
    },
    {
      "cell_type": "markdown",
      "source": [
        "задание 3.1\n",
        "Дано целое число, не меньшее 2. Выведите его наименьший натуральный делитель, отличный от 1.\n"
      ],
      "metadata": {
        "id": "zQPpCu2M3a4_"
      }
    },
    {
      "cell_type": "code",
      "source": [
        "n = int(input())\n",
        "i = 2\n",
        "while n % i != 0:\n",
        "    i += 1\n",
        "\n",
        "print(i)\n"
      ],
      "metadata": {
        "colab": {
          "base_uri": "https://localhost:8080/"
        },
        "id": "2kML_jve3bPN",
        "outputId": "eae695e5-bb95-494e-df94-0db5ec6b6ffb"
      },
      "execution_count": 16,
      "outputs": [
        {
          "output_type": "stream",
          "name": "stdout",
          "text": [
            "3\n",
            "3\n"
          ]
        }
      ]
    },
    {
      "cell_type": "markdown",
      "source": [
        "задание 3.2\n",
        "Посчитать сумму числового ряда от 1 до N включительно (т.е. 0+1+2+3+…+ N). Решите задачу с помощью и без помощи оператора цикла. Число N вводится с клавиатуры (N< 1000)."
      ],
      "metadata": {
        "id": "KKGHJ2z43etb"
      }
    },
    {
      "cell_type": "code",
      "source": [
        "n = int(input())\n",
        "print((1 + n) * n / 2)\n",
        "\n",
        "i = 1\n",
        "k = 0\n",
        "while i <= n:\n",
        "    k += i\n",
        "    i += 1\n",
        "print(k)\n"
      ],
      "metadata": {
        "colab": {
          "base_uri": "https://localhost:8080/"
        },
        "id": "6Nr3eUXH3e-I",
        "outputId": "6c3c824b-4630-495b-9527-6eec338d2c4b"
      },
      "execution_count": 17,
      "outputs": [
        {
          "output_type": "stream",
          "name": "stdout",
          "text": [
            "3\n",
            "6.0\n",
            "6\n"
          ]
        }
      ]
    }
  ]
}